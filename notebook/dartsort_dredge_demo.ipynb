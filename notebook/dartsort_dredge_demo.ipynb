{
 "cells": [
  {
   "cell_type": "code",
   "execution_count": null,
   "id": "10980b69-5de9-4ddb-a0d7-e593c04eebc1",
   "metadata": {
    "tags": []
   },
   "outputs": [],
   "source": [
    "%load_ext autoreload\n",
    "%autoreload 2"
   ]
  },
  {
   "cell_type": "markdown",
   "id": "a56033bb-c3ad-40af-bbd8-216e769b55da",
   "metadata": {},
   "source": [
    "## DARTsort initial detection + DREDge motion estimation demo\n",
    "\n",
    "This notebook demos a pipeline for getting initial spike detection and registration\n",
    "running on a Neuropixels dataset (dataset1 from https://figshare.com/articles/dataset/_Imposed_motion_datasets_from_Steinmetz_et_al_Science_2021/14024495?file=26476589)\n",
    "\n",
    "The recording is loaded and preprocessed using SpikeInterface. If you're working\n",
    "on a recording which wasn't made with spikeglx like this one, then you can use\n",
    "SpikeInterface's other read_* functions to load it up.\n",
    "\n",
    "### Installation + setup\n",
    "\n",
    "To get everything running, first follow the instructions in the README of this repo\n",
    "for setting up an environment and installing `dartsort` with `mamba`. Then,\n",
    "`git clone` the dredge repo: https://github.com/evarol/dredge . Once you clone that\n",
    "repo, you can install `dredge` with\n",
    "\n",
    "```\n",
    "$ git clone https://github.com/evarol/dredge\n",
    "$ cd dredge\n",
    "$ cd dredge-python\n",
    "# (make sure your environment is activated)\n",
    "$ pip install -e .\n",
    "```"
   ]
  },
  {
   "cell_type": "code",
   "execution_count": null,
   "id": "5f9a98a3-2887-41bd-9a3d-c4e6afce95bb",
   "metadata": {
    "tags": []
   },
   "outputs": [],
   "source": [
    "import numpy as np\n",
    "import spikeinterface.full as si\n",
    "from dartsort.main import subtract\n",
    "from dartsort.util.data_util import DARTsortSorting\n",
    "import dartsort.vis as dartvis\n",
    "from pathlib import Path\n",
    "from dredge.dredge_ap import register\n",
    "import dredge.motion_util as mu\n",
    "import matplotlib.pyplot as plt"
   ]
  },
  {
   "cell_type": "code",
   "execution_count": null,
   "id": "d5950752-1a08-4cec-a418-1eec299441ca",
   "metadata": {
    "tags": []
   },
   "outputs": [],
   "source": [
    "# path to the place where dataset1 was downloaded\n",
    "dataset1_path = Path(\"/mnt/sdceph/users/churwitz/spike_sorting/dataset1/\")\n",
    "\n",
    "# path where you'd like to store output files\n",
    "output_path = Path(\"/mnt/sdceph/users/churwitz/spike_sorting/dataset1/dataset1_output\")\n",
    "\n",
    "# optional cache directory for storing a preprocessed binary\n",
    "# file. you can choose not to do this\n",
    "save_preprocessed_data = True\n",
    "cache_dir = Path(\"/mnt/sdceph/users/churwitz/spike_sorting/dataset1/dataset1_cache\")"
   ]
  },
  {
   "cell_type": "code",
   "execution_count": null,
   "id": "11d8dee4-9923-4744-be7c-9e12ebd7b04a",
   "metadata": {
    "tags": []
   },
   "outputs": [],
   "source": [
    "output_path.mkdir(exist_ok=True)\n",
    "assert dataset1_path.exists()"
   ]
  },
  {
   "cell_type": "code",
   "execution_count": null,
   "id": "fb6a7f89-9583-4924-832c-f278edb61920",
   "metadata": {
    "tags": []
   },
   "outputs": [],
   "source": [
    "# load up the NP2 dataset from dataset1\n",
    "rec = si.read_spikeglx(dataset1_path / \"p2\", stream_id=\"imec0.ap\")\n",
    "if save_preprocessed_data and cache_dir.exists():\n",
    "    rec = si.read_binary_folder(cache_dir)\n",
    "else:\n",
    "    # preprocessing (mimic IBL's pipeline with spikeinterface)\n",
    "    rec = si.highpass_filter(rec)\n",
    "    rec = si.phase_shift(rec)\n",
    "    bad_channel_ids, channel_labels = si.detect_bad_channels(rec)\n",
    "    rec = rec.remove_channels(bad_channel_ids)\n",
    "    rec = si.highpass_spatial_filter(rec)\n",
    "    rec = si.zscore(rec, num_chunks_per_segment=50, mode=\"mean+std\")\n",
    "\n",
    "    # you can optionally cache this preprocessed recording, which will\n",
    "    # speed things up later at the cost of time spent now\n",
    "    if save_preprocessed_data:\n",
    "        rec = rec.save(folder=cache_dir, n_jobs=5, chunk_duration=\"1s\")"
   ]
  },
  {
   "cell_type": "code",
   "execution_count": null,
   "id": "bd449e5a-1629-40b7-96ce-77c757338b8d",
   "metadata": {},
   "outputs": [],
   "source": [
    "#get a snippet for testing\n",
    "num_seconds = 10*60\n",
    "sub_rec = rec.frame_slice(0, int(rec.get_sampling_frequency()*num_seconds))"
   ]
  },
  {
   "cell_type": "code",
   "execution_count": null,
   "id": "19c86999-dffb-47b4-8b2b-b95e98f3f238",
   "metadata": {
    "scrolled": true,
    "tags": []
   },
   "outputs": [],
   "source": [
    "plt.imshow(sub_rec.get_traces(0, 0, 1000).T, aspect=\"auto\")\n",
    "plt.colorbar(label=\"amplitude (su)\")\n",
    "plt.xlabel(\"time (samples)\")\n",
    "plt.ylabel(\"channel\");"
   ]
  },
  {
   "cell_type": "code",
   "execution_count": null,
   "id": "0dbd7410-4fc6-49ca-aeef-c3b498f1eb2c",
   "metadata": {
    "tags": []
   },
   "outputs": [],
   "source": [
    "# run spike detection and localization\n",
    "# the default configuration should work in most probes, but there are\n",
    "# options which can be tweaked in the case that results look strange\n",
    "# this runs on GPU by default if you have one, and you can set n_jobs\n",
    "# higher if you have a nice one. this was run on a 1080 with 8GB ram,\n",
    "# and it used about all of the memory\n",
    "initial_detections, subtraction_h5 = subtract(sub_rec, output_path, n_jobs=2)"
   ]
  },
  {
   "cell_type": "code",
   "execution_count": null,
   "id": "22c28b0a-7cba-498e-b0b7-60420aea7aab",
   "metadata": {
    "scrolled": true,
    "tags": []
   },
   "outputs": [],
   "source": [
    "# load up extra data including spike locations\n",
    "initial_detections = DARTsortSorting.from_peeling_hdf5(subtraction_h5, load_simple_features=True)\n",
    "initial_detections"
   ]
  },
  {
   "cell_type": "code",
   "execution_count": null,
   "id": "1dc87205-e82a-4b2b-a119-d56386316ce8",
   "metadata": {
    "tags": []
   },
   "outputs": [],
   "source": [
    "# plot unregistered positions\n",
    "dartvis.scatter_spike_features(subtraction_h5);"
   ]
  },
  {
   "cell_type": "code",
   "execution_count": null,
   "id": "df3ed55b-3620-46ac-87a5-57a68d3f5958",
   "metadata": {
    "tags": []
   },
   "outputs": [],
   "source": [
    "geom = sub_rec.get_channel_locations()"
   ]
  },
  {
   "cell_type": "code",
   "execution_count": null,
   "id": "95c4541c-5beb-4622-b23f-4ab78f175e8b",
   "metadata": {},
   "outputs": [],
   "source": []
  },
  {
   "cell_type": "code",
   "execution_count": null,
   "id": "e2111a01-e2e7-4c16-82ca-be6cfab66c05",
   "metadata": {
    "tags": []
   },
   "outputs": [],
   "source": [
    "# registration\n",
    "# localization can put a couple of spikes way off the probe, so we\n",
    "# first restrict to reasonable spikes\n",
    "# still working out how to handle this in a cleaner way\n",
    "z = initial_detections.point_source_localizations[:, 2]\n",
    "valid = z == np.clip(z, geom[:, 1].min() - 50, geom[:, 1].max() + 50)\n",
    "z = z[valid]\n",
    "t = initial_detections.times_seconds[valid]\n",
    "a = initial_detections.denoised_amplitudes[valid]\n",
    "\n",
    "# run registration\n",
    "# there are parameters here to control the placement and number of nonrigid windows, etc\n",
    "motion_est, extra_info = register(a, z, t)"
   ]
  },
  {
   "cell_type": "code",
   "execution_count": null,
   "id": "e9db0eb1-87bb-4537-b6d3-655c8095663b",
   "metadata": {
    "tags": []
   },
   "outputs": [],
   "source": [
    "# plot the registration result: motion traces over unregistered spike positions\n",
    "dartvis.scatter_time_vs_depth(subtraction_h5)\n",
    "mu.plot_me_traces(motion_est, plt.gca(), color=\"r\");"
   ]
  },
  {
   "cell_type": "code",
   "execution_count": null,
   "id": "a77d6434-357c-414d-93b9-2c5f4df0b1db",
   "metadata": {
    "tags": []
   },
   "outputs": [],
   "source": [
    "# plot the registered spike positions\n",
    "dartvis.scatter_time_vs_depth(subtraction_h5, registered=True, motion_est=motion_est);"
   ]
  },
  {
   "cell_type": "code",
   "execution_count": null,
   "id": "524d66f5-29e0-41e7-b3a8-455cf9c863b1",
   "metadata": {},
   "outputs": [],
   "source": [
    "from dartsort.main import cluster\n",
    "from dartsort.config import (FeaturizationConfig, ClusteringConfig, MatchingConfig,\n",
    "                             SubtractionConfig, TemplateConfig)\n",
    "\n",
    "clustering_config = ClusteringConfig(cluster_strategy='hdbscan', \n",
    "                                     ensemble_strategy='forward_backward',\n",
    "                                     chunk_size_s=100,\n",
    "                                    )\n",
    "sorting = cluster(subtraction_h5, sub_rec, motion_est=motion_est, clustering_config=clustering_config)"
   ]
  },
  {
   "cell_type": "code",
   "execution_count": null,
   "id": "ddeb367b-8247-4ec0-ade5-6f60850db1f8",
   "metadata": {},
   "outputs": [],
   "source": [
    "figure = plt.figure(figsize=(12,6))\n",
    "dartvis.scatter_spike_features(subtraction_h5, \n",
    "                               sorting=sorting, \n",
    "                               figure=figure\n",
    "                              );\n",
    "                               # x_range_um=(-40, 60),\n",
    "                               # y_range_um=(3200, 3300)"
   ]
  },
  {
   "cell_type": "code",
   "execution_count": null,
   "id": "d396bc10-bb39-40e0-8c26-99fa2a13106b",
   "metadata": {},
   "outputs": [],
   "source": [
    "from spike_psvae.cluster_viz import array_scatter\n",
    "\n",
    "x = initial_detections.point_source_localizations[:, 0]\n",
    "z = initial_detections.point_source_localizations[:, 2]\n",
    "a = initial_detections.denoised_amplitudes\n",
    "t = initial_detections.times_seconds\n",
    "z_reg = motion_est.correct_s(t, z)\n",
    "array_scatter(sorting.labels, geom, x, z_reg, a, zlim=(-100, 3000), do_ellipse=True, xlim=(-50, 92), ptplim = (0, 50));"
   ]
  },
  {
   "cell_type": "code",
   "execution_count": null,
   "id": "e4e5d137-f48b-46a1-a7f2-f3770773fcc7",
   "metadata": {},
   "outputs": [],
   "source": [
    "zlim_list = [(-100, 500), (400, 1000), (900, 1500), (1400, 2000), (1900, 2500), (2400, 3000)]\n",
    "for zlim in zlim_list:\n",
    "    array_scatter(sorting.labels, geom, x, z_reg, a, zlim=zlim, do_ellipse=True, xlim=(-60, 100), ptplim = (0, 50));"
   ]
  }
 ],
 "metadata": {
  "kernelspec": {
   "display_name": "Python [conda env:dartsort]",
   "language": "python",
   "name": "conda-env-dartsort-py"
  },
  "language_info": {
   "codemirror_mode": {
    "name": "ipython",
    "version": 3
   },
   "file_extension": ".py",
   "mimetype": "text/x-python",
   "name": "python",
   "nbconvert_exporter": "python",
   "pygments_lexer": "ipython3",
   "version": "3.11.6"
  }
 },
 "nbformat": 4,
 "nbformat_minor": 5
}
